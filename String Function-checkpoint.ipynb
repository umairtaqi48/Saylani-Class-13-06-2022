{
 "cells": [
  {
   "cell_type": "code",
   "execution_count": 5,
   "id": "1c0132ee",
   "metadata": {},
   "outputs": [
    {
     "name": "stdout",
     "output_type": "stream",
     "text": [
      "\n",
      "\n",
      "Pakistan National ID Card\n",
      "Name: Umair Taqi\n",
      "Father's Name: Muhammad Taqi\n",
      "Gender: Male  Country of Stay\n",
      "Identity No: 42101-4333404-1\n",
      "Date of Birth: 07-02-1989   Date of Issue: 07-12-2009 \n",
      "Date of Expiry: 07-12-2019\n"
     ]
    }
   ],
   "source": [
    "name = \"Umair Taqi\"\n",
    "f_name = \"Muhammad Taqi\"\n",
    "gender = (\"Male\")\n",
    "id_no = '42101-4333404-1'\n",
    "dob = '07-02-1989'\n",
    "doi = '07-12-2009'\n",
    "doe = '07-12-2019'\n",
    "\n",
    "cnic_card = f\"\"\"\n",
    "\n",
    "Pakistan National ID Card\n",
    "Name: {name}\n",
    "Father's Name: {f_name}\n",
    "Gender: {gender}  Country of Stay\n",
    "Identity No: {id_no}\n",
    "Date of Birth: {dob}   Date of Issue: {doi} \n",
    "Date of Expiry: {doe}\"\"\"\n",
    "print(cnic_card)"
   ]
  },
  {
   "cell_type": "code",
   "execution_count": 33,
   "id": "648d98d7",
   "metadata": {},
   "outputs": [
    {
     "name": "stdout",
     "output_type": "stream",
     "text": [
      "Name: Umair Taqi\n",
      "Marketing 80\n",
      "Research 75\n",
      "Production Mgmt 65\n",
      "Business Communication 55\n",
      "Financial Accounting 60\n",
      "Total Marks  335\n",
      "Percentage  67.0\n"
     ]
    }
   ],
   "source": [
    "name = input(\"Name: \")\n",
    "f_name = \"Muhammad Taqi\"\n",
    "uni = \"Karachi University\"\n",
    "roll_no = '7221314'\n",
    "dept= \"KUBS\"\n",
    "sub= \"MBA Marketing\"\n",
    "\n",
    "mkt = int(input(\"Marketing \"))\n",
    "resrch = int(input(\"Research \"))\n",
    "prdt_mgmt = int(input(\"Production Mgmt \"))\n",
    "b_comm = int(input(\"Business Communication \"))\n",
    "fin_acc = int(input(\"Financial Accounting \"))\n",
    "res = (mkt + resrch + prdt_mgmt+b_comm+fin_acc)\n",
    "print(\"Total Marks \", res)\n",
    "per = (res/500*100)\n",
    "print(\"Percentage \",per)\n",
    "\n"
   ]
  },
  {
   "cell_type": "code",
   "execution_count": 38,
   "id": "d49c4742",
   "metadata": {},
   "outputs": [
    {
     "name": "stdout",
     "output_type": "stream",
     "text": [
      "==========================Karachi University Business School==================================\n",
      "\n",
      "Name: Umair Taqi                       Father Name: Muhammad Taqi\n",
      "University: Karachi University         Roll No:     7221314\n",
      "Department: KUBS                       Subject:     MBA Marketing\n",
      "\n",
      "----------------------------------------------------------------------------------------------------------------\n",
      "\n",
      "S.No               Particular                       Marks\n",
      " 1                 Marketing:                        80                  \n",
      " 2                 Research:                         75\n",
      " 3                 Production Mgmt:                  65\n",
      " 4                 Business Comm:                    55\n",
      " 5                 Financial Accounts:               60\n",
      "Total Marks:                                         335\n",
      "Percentage:                                          67.0\n"
     ]
    }
   ],
   "source": [
    "mark_sheet = f\"\"\"==========================Karachi University Business School==================================\n",
    "\n",
    "Name: {name}                       Father Name: {f_name}\n",
    "University: {uni}         Roll No:     {roll_no}\n",
    "Department: {dept}                       Subject:     {sub}\n",
    "\n",
    "----------------------------------------------------------------------------------------------------------------\n",
    "\n",
    "S.No               Particular                       Marks\n",
    " 1                 Marketing:                        {mkt}                  \n",
    " 2                 Research:                         {resrch}\n",
    " 3                 Production Mgmt:                  {prdt_mgmt}\n",
    " 4                 Business Comm:                    {b_comm}\n",
    " 5                 Financial Accounts:               {fin_acc}\n",
    "Total Marks:                                         {res}\n",
    "Percentage:                                          {per}\"\"\"\n",
    "print(mark_sheet)"
   ]
  },
  {
   "cell_type": "code",
   "execution_count": 39,
   "id": "f00a9470",
   "metadata": {},
   "outputs": [
    {
     "name": "stdout",
     "output_type": "stream",
     "text": [
      "<class 'str'>\n"
     ]
    }
   ],
   "source": [
    "name = \"Muhammad Qasim\"\n",
    "print(type(name))"
   ]
  },
  {
   "cell_type": "code",
   "execution_count": 41,
   "id": "248bc6ba",
   "metadata": {},
   "outputs": [
    {
     "data": {
      "text/plain": [
       "['__add__',\n",
       " '__class__',\n",
       " '__contains__',\n",
       " '__delattr__',\n",
       " '__dir__',\n",
       " '__doc__',\n",
       " '__eq__',\n",
       " '__format__',\n",
       " '__ge__',\n",
       " '__getattribute__',\n",
       " '__getitem__',\n",
       " '__getnewargs__',\n",
       " '__gt__',\n",
       " '__hash__',\n",
       " '__init__',\n",
       " '__init_subclass__',\n",
       " '__iter__',\n",
       " '__le__',\n",
       " '__len__',\n",
       " '__lt__',\n",
       " '__mod__',\n",
       " '__mul__',\n",
       " '__ne__',\n",
       " '__new__',\n",
       " '__reduce__',\n",
       " '__reduce_ex__',\n",
       " '__repr__',\n",
       " '__rmod__',\n",
       " '__rmul__',\n",
       " '__setattr__',\n",
       " '__sizeof__',\n",
       " '__str__',\n",
       " '__subclasshook__',\n",
       " 'capitalize',\n",
       " 'casefold',\n",
       " 'center',\n",
       " 'count',\n",
       " 'encode',\n",
       " 'endswith',\n",
       " 'expandtabs',\n",
       " 'find',\n",
       " 'format',\n",
       " 'format_map',\n",
       " 'index',\n",
       " 'isalnum',\n",
       " 'isalpha',\n",
       " 'isascii',\n",
       " 'isdecimal',\n",
       " 'isdigit',\n",
       " 'isidentifier',\n",
       " 'islower',\n",
       " 'isnumeric',\n",
       " 'isprintable',\n",
       " 'isspace',\n",
       " 'istitle',\n",
       " 'isupper',\n",
       " 'join',\n",
       " 'ljust',\n",
       " 'lower',\n",
       " 'lstrip',\n",
       " 'maketrans',\n",
       " 'partition',\n",
       " 'removeprefix',\n",
       " 'removesuffix',\n",
       " 'replace',\n",
       " 'rfind',\n",
       " 'rindex',\n",
       " 'rjust',\n",
       " 'rpartition',\n",
       " 'rsplit',\n",
       " 'rstrip',\n",
       " 'split',\n",
       " 'splitlines',\n",
       " 'startswith',\n",
       " 'strip',\n",
       " 'swapcase',\n",
       " 'title',\n",
       " 'translate',\n",
       " 'upper',\n",
       " 'zfill']"
      ]
     },
     "execution_count": 41,
     "metadata": {},
     "output_type": "execute_result"
    }
   ],
   "source": [
    "dir(name)"
   ]
  },
  {
   "cell_type": "code",
   "execution_count": 44,
   "id": "f9f83117",
   "metadata": {},
   "outputs": [
    {
     "name": "stdout",
     "output_type": "stream",
     "text": [
      "Umair taqi\n",
      "umair taqi\n"
     ]
    }
   ],
   "source": [
    "name=\"umair taqi\"\n",
    "print(name.capitalize()) #in line operation\n",
    "print(name)"
   ]
  },
  {
   "cell_type": "markdown",
   "id": "b9409f88",
   "metadata": {},
   "source": []
  },
  {
   "cell_type": "code",
   "execution_count": 46,
   "id": "bd22973a",
   "metadata": {},
   "outputs": [
    {
     "name": "stdout",
     "output_type": "stream",
     "text": [
      "umair taqi\n",
      "Umair Taqi\n"
     ]
    }
   ],
   "source": [
    "name=\"Umair Taqi\"\n",
    "print(name.casefold())\n",
    "print(name)"
   ]
  },
  {
   "cell_type": "code",
   "execution_count": 54,
   "id": "302108ad",
   "metadata": {},
   "outputs": [
    {
     "name": "stdout",
     "output_type": "stream",
     "text": [
      "Umair Taqi\n",
      "50\n",
      "Umair Taqi\n"
     ]
    }
   ],
   "source": [
    "name=\"Umair Taqi\"\n",
    "print(name.center(10))\n",
    "print(len(name.center(50)))\n",
    "print(name)"
   ]
  },
  {
   "cell_type": "code",
   "execution_count": 53,
   "id": "8e307767",
   "metadata": {},
   "outputs": [
    {
     "name": "stdout",
     "output_type": "stream",
     "text": [
      "2\n",
      "Umair Taqi\n"
     ]
    }
   ],
   "source": [
    "name=\"Umair Taqi\"\n",
    "print(name.count('a'))\n",
    "print(name)"
   ]
  },
  {
   "cell_type": "code",
   "execution_count": 61,
   "id": "94c4b464",
   "metadata": {},
   "outputs": [
    {
     "name": "stdout",
     "output_type": "stream",
     "text": [
      "1\n",
      "umair Taqi\n"
     ]
    }
   ],
   "source": [
    "name=\"umair Taqi\"\n",
    "print(name.casefold().count('u'))\n",
    "print(name)"
   ]
  },
  {
   "cell_type": "code",
   "execution_count": 62,
   "id": "97844a47",
   "metadata": {},
   "outputs": [
    {
     "ename": "AttributeError",
     "evalue": "'int' object has no attribute 'casefold'",
     "output_type": "error",
     "traceback": [
      "\u001b[1;31m---------------------------------------------------------------------------\u001b[0m",
      "\u001b[1;31mAttributeError\u001b[0m                            Traceback (most recent call last)",
      "Input \u001b[1;32mIn [62]\u001b[0m, in \u001b[0;36m<cell line: 2>\u001b[1;34m()\u001b[0m\n\u001b[0;32m      1\u001b[0m name\u001b[38;5;241m=\u001b[39m\u001b[38;5;124m\"\u001b[39m\u001b[38;5;124mumair Taqi\u001b[39m\u001b[38;5;124m\"\u001b[39m\n\u001b[1;32m----> 2\u001b[0m \u001b[38;5;28mprint\u001b[39m(\u001b[43mname\u001b[49m\u001b[38;5;241;43m.\u001b[39;49m\u001b[43mcount\u001b[49m\u001b[43m(\u001b[49m\u001b[38;5;124;43m'\u001b[39;49m\u001b[38;5;124;43mu\u001b[39;49m\u001b[38;5;124;43m'\u001b[39;49m\u001b[43m)\u001b[49m\u001b[38;5;241;43m.\u001b[39;49m\u001b[43mcasefold\u001b[49m())\n\u001b[0;32m      3\u001b[0m \u001b[38;5;28mprint\u001b[39m(name)\n",
      "\u001b[1;31mAttributeError\u001b[0m: 'int' object has no attribute 'casefold'"
     ]
    }
   ],
   "source": [
    "name=\"umair Taqi\"\n",
    "print(name.count('u').casefold())\n",
    "print(name)"
   ]
  },
  {
   "cell_type": "code",
   "execution_count": 64,
   "id": "a959fb73",
   "metadata": {},
   "outputs": [
    {
     "name": "stdout",
     "output_type": "stream",
     "text": [
      "b'\\xd9\\xbe\\xd8\\xa7\\xda\\xa9\\xd8\\xb3\\xd8\\xaa\\xd8\\xa7\\xd9\\x86'\n"
     ]
    }
   ],
   "source": [
    "name = \"پاکستان\"\n",
    "print(name.encode('utf-8'))"
   ]
  },
  {
   "cell_type": "code",
   "execution_count": 65,
   "id": "d4af5480",
   "metadata": {},
   "outputs": [
    {
     "name": "stdout",
     "output_type": "stream",
     "text": [
      "True\n",
      "umair Taqi\n"
     ]
    }
   ],
   "source": [
    "name=\"umair Taqi\"\n",
    "print(name.endswith('qi'))\n",
    "print(name)"
   ]
  },
  {
   "cell_type": "code",
   "execution_count": 67,
   "id": "c7ffd9ff",
   "metadata": {},
   "outputs": [
    {
     "name": "stdout",
     "output_type": "stream",
     "text": [
      "True\n",
      "umair Taqi\n"
     ]
    }
   ],
   "source": [
    "name=\"umair Taqi\"\n",
    "print(name.startswith('u'))\n",
    "print(name)"
   ]
  },
  {
   "cell_type": "code",
   "execution_count": 73,
   "id": "e2e93f81",
   "metadata": {},
   "outputs": [
    {
     "name": "stdout",
     "output_type": "stream",
     "text": [
      "name:               Umair Taqi\n",
      "father's name:      Muhammad Taqi\n",
      "name:\tUmair Taqi\n",
      "father's name:\tMuhammad Taqi\n"
     ]
    }
   ],
   "source": [
    "name=\"name:\\tUmair Taqi\\nfather's name:\\tMuhammad Taqi\"\n",
    "print(name.expandtabs(20))\n",
    "print(name)"
   ]
  },
  {
   "cell_type": "code",
   "execution_count": 90,
   "id": "484a8b81",
   "metadata": {},
   "outputs": [
    {
     "name": "stdout",
     "output_type": "stream",
     "text": [
      "0\n"
     ]
    }
   ],
   "source": [
    "name=\"umair Taqi\"\n",
    "print(name.find(\"umair\",0))"
   ]
  },
  {
   "cell_type": "code",
   "execution_count": 92,
   "id": "ce91040a",
   "metadata": {},
   "outputs": [
    {
     "name": "stdout",
     "output_type": "stream",
     "text": [
      "umair Taqi\n"
     ]
    }
   ],
   "source": [
    "name=\"umair Taqi\"\n",
    "print(name.format(\"Qasim\", \"Umair\", \"Taqi\"))"
   ]
  },
  {
   "cell_type": "code",
   "execution_count": 93,
   "id": "2d2dc857",
   "metadata": {},
   "outputs": [
    {
     "data": {
      "text/plain": [
       "'name:Qasim\\n class : Saylani Btach3'"
      ]
     },
     "execution_count": 93,
     "metadata": {},
     "output_type": "execute_result"
    }
   ],
   "source": [
    "name=\"name:{nm}\\n class : {cl}\"\n",
    "data = {\"nm\": 'Qasim', 'cl': \"Saylani Btach3\"}\n",
    "name.format_map(data)"
   ]
  },
  {
   "cell_type": "code",
   "execution_count": 95,
   "id": "7fb663a7",
   "metadata": {},
   "outputs": [
    {
     "data": {
      "text/plain": [
       "3"
      ]
     },
     "execution_count": 95,
     "metadata": {},
     "output_type": "execute_result"
    }
   ],
   "source": [
    "name = \"Muhammad2 Qasim\"\n",
    "name.index(\"a\")"
   ]
  },
  {
   "cell_type": "code",
   "execution_count": 97,
   "id": "d370a56f",
   "metadata": {},
   "outputs": [
    {
     "data": {
      "text/plain": [
       "True"
      ]
     },
     "execution_count": 97,
     "metadata": {},
     "output_type": "execute_result"
    }
   ],
   "source": [
    "name = \"MuhammadQasim\"\n",
    "name.isalnum()"
   ]
  },
  {
   "cell_type": "code",
   "execution_count": 100,
   "id": "2a34c542",
   "metadata": {},
   "outputs": [
    {
     "data": {
      "text/plain": [
       "True"
      ]
     },
     "execution_count": 100,
     "metadata": {},
     "output_type": "execute_result"
    }
   ],
   "source": [
    "name = \"MuhammadQasim\"\n",
    "name.isalpha()"
   ]
  },
  {
   "cell_type": "code",
   "execution_count": 102,
   "id": "e7894f24",
   "metadata": {},
   "outputs": [
    {
     "data": {
      "text/plain": [
       "True"
      ]
     },
     "execution_count": 102,
     "metadata": {},
     "output_type": "execute_result"
    }
   ],
   "source": [
    "name = \"MuhammadQasim\"\n",
    "name.isascii()"
   ]
  },
  {
   "cell_type": "code",
   "execution_count": 107,
   "id": "ad5511a3",
   "metadata": {},
   "outputs": [
    {
     "data": {
      "text/plain": [
       "False"
      ]
     },
     "execution_count": 107,
     "metadata": {},
     "output_type": "execute_result"
    }
   ],
   "source": [
    "name = \"41.0\"\n",
    "name.isdecimal()"
   ]
  },
  {
   "cell_type": "code",
   "execution_count": 106,
   "id": "c1eb52b0",
   "metadata": {},
   "outputs": [
    {
     "data": {
      "text/plain": [
       "True"
      ]
     },
     "execution_count": 106,
     "metadata": {},
     "output_type": "execute_result"
    }
   ],
   "source": [
    "name = \"3\"\n",
    "name.isdigit()"
   ]
  },
  {
   "cell_type": "code",
   "execution_count": 111,
   "id": "bb591cdd",
   "metadata": {},
   "outputs": [
    {
     "data": {
      "text/plain": [
       "True"
      ]
     },
     "execution_count": 111,
     "metadata": {},
     "output_type": "execute_result"
    }
   ],
   "source": [
    "name = \"pak\"\n",
    "name.isidentifier()"
   ]
  },
  {
   "cell_type": "code",
   "execution_count": 113,
   "id": "95b231f6",
   "metadata": {},
   "outputs": [
    {
     "data": {
      "text/plain": [
       "True"
      ]
     },
     "execution_count": 113,
     "metadata": {},
     "output_type": "execute_result"
    }
   ],
   "source": [
    "name = \"asasas\"\n",
    "name.islower()\n"
   ]
  },
  {
   "cell_type": "code",
   "execution_count": 115,
   "id": "7cc661f0",
   "metadata": {},
   "outputs": [
    {
     "data": {
      "text/plain": [
       "True"
      ]
     },
     "execution_count": 115,
     "metadata": {},
     "output_type": "execute_result"
    }
   ],
   "source": [
    "name = \"2323\"\n",
    "name.isnumeric()"
   ]
  },
  {
   "cell_type": "code",
   "execution_count": 117,
   "id": "1721e1a5",
   "metadata": {},
   "outputs": [
    {
     "data": {
      "text/plain": [
       "'Pakistan Zindabad'"
      ]
     },
     "execution_count": 117,
     "metadata": {},
     "output_type": "execute_result"
    }
   ],
   "source": [
    "name = \"pakistan zindabad\"\n",
    "name.title()"
   ]
  },
  {
   "cell_type": "markdown",
   "id": "2c0d675c",
   "metadata": {},
   "source": [
    "# Complete remaining methods"
   ]
  },
  {
   "cell_type": "code",
   "execution_count": 120,
   "id": "4a73d140",
   "metadata": {},
   "outputs": [],
   "source": [
    "# list data type\n",
    "# index\n",
    "# slicing\n",
    "# methods\n",
    "# attributes\n",
    "\n",
    "#List: we can use list for more than 1 variable.\n"
   ]
  },
  {
   "cell_type": "code",
   "execution_count": 123,
   "id": "37149301",
   "metadata": {},
   "outputs": [
    {
     "name": "stdout",
     "output_type": "stream",
     "text": [
      "<class 'list'>\n"
     ]
    },
    {
     "data": {
      "text/plain": [
       "['qasim', 'umair', 'maulana', 'noman']"
      ]
     },
     "execution_count": 123,
     "metadata": {},
     "output_type": "execute_result"
    }
   ],
   "source": [
    "#         0        1         2          3\n",
    "names=['qasim', 'umair', 'maulana', 'noman']\n",
    "#        -4       -3       -2         -1\n",
    "print(type(names))\n",
    "names"
   ]
  },
  {
   "cell_type": "code",
   "execution_count": 124,
   "id": "372a108e",
   "metadata": {},
   "outputs": [
    {
     "data": {
      "text/plain": [
       "'umair'"
      ]
     },
     "execution_count": 124,
     "metadata": {},
     "output_type": "execute_result"
    }
   ],
   "source": [
    "names[1]"
   ]
  },
  {
   "cell_type": "code",
   "execution_count": 125,
   "id": "423a092e",
   "metadata": {},
   "outputs": [
    {
     "data": {
      "text/plain": [
       "'umair'"
      ]
     },
     "execution_count": 125,
     "metadata": {},
     "output_type": "execute_result"
    }
   ],
   "source": [
    "names[-3]"
   ]
  },
  {
   "cell_type": "code",
   "execution_count": 126,
   "id": "2779a005",
   "metadata": {},
   "outputs": [
    {
     "data": {
      "text/plain": [
       "'maulana'"
      ]
     },
     "execution_count": 126,
     "metadata": {},
     "output_type": "execute_result"
    }
   ],
   "source": [
    "names[-2]"
   ]
  },
  {
   "cell_type": "code",
   "execution_count": 128,
   "id": "1f26e85e",
   "metadata": {},
   "outputs": [
    {
     "name": "stdout",
     "output_type": "stream",
     "text": [
      "['qasim', 'umair', 'maulana', 'noman', 200, 300, 500, 20, 10]\n",
      "['qasim', 'Hammad', 'maulana', 'noman', 200, 300, 500, 20, 10]\n"
     ]
    }
   ],
   "source": [
    "#         0        1         2          3\n",
    "names=['qasim', 'umair', 'maulana', 'noman', 200, 300, 500, 20, 10]\n",
    "#          -9         -8          -7          -6      -5     -4    -3  -2   -1\n",
    "print(names)\n",
    "names[1] = 'Hammad'\n",
    "print(names)"
   ]
  },
  {
   "cell_type": "code",
   "execution_count": 129,
   "id": "fd4e674f",
   "metadata": {},
   "outputs": [
    {
     "name": "stdout",
     "output_type": "stream",
     "text": [
      "['qasim', 'umair', 'maulana', 'noman', 200, 300, 500, 20, 10]\n"
     ]
    },
    {
     "ename": "IndexError",
     "evalue": "list assignment index out of range",
     "output_type": "error",
     "traceback": [
      "\u001b[1;31m---------------------------------------------------------------------------\u001b[0m",
      "\u001b[1;31mIndexError\u001b[0m                                Traceback (most recent call last)",
      "Input \u001b[1;32mIn [129]\u001b[0m, in \u001b[0;36m<cell line: 5>\u001b[1;34m()\u001b[0m\n\u001b[0;32m      3\u001b[0m \u001b[38;5;66;03m#          -9         -8          -7          -6      -5     -4    -3  -2   -1\u001b[39;00m\n\u001b[0;32m      4\u001b[0m \u001b[38;5;28mprint\u001b[39m(names)\n\u001b[1;32m----> 5\u001b[0m names[\u001b[38;5;241m100\u001b[39m] \u001b[38;5;241m=\u001b[39m \u001b[38;5;124m\"\u001b[39m\u001b[38;5;124mHammad\u001b[39m\u001b[38;5;124m\"\u001b[39m\n\u001b[0;32m      6\u001b[0m \u001b[38;5;28mprint\u001b[39m(names)\n",
      "\u001b[1;31mIndexError\u001b[0m: list assignment index out of range"
     ]
    }
   ],
   "source": [
    "#         0        1         2          3\n",
    "names=['qasim', 'umair', 'maulana', 'noman', 200, 300, 500, 20, 10]\n",
    "#          -9         -8          -7          -6      -5     -4    -3  -2   -1\n",
    "print(names)\n",
    "names[100] = \"Hammad\"\n",
    "print(names)"
   ]
  },
  {
   "cell_type": "markdown",
   "id": "8d34ddb8",
   "metadata": {},
   "source": [
    "# Slicing"
   ]
  },
  {
   "cell_type": "code",
   "execution_count": null,
   "id": "3c590240",
   "metadata": {},
   "outputs": [],
   "source": [
    "#list[start:end:step]\n",
    "default left to right (step=1, -1)\n",
    "#start: include\n",
    "#end: exclude\n",
    "#step: "
   ]
  },
  {
   "cell_type": "code",
   "execution_count": 140,
   "id": "ca0d5789",
   "metadata": {},
   "outputs": [
    {
     "data": {
      "text/plain": [
       "['kamran', 200, 300, 500, 20]"
      ]
     },
     "execution_count": 140,
     "metadata": {},
     "output_type": "execute_result"
    }
   ],
   "source": [
    "names=['qasim', 'asif', 'noman', 'kamran', 200, 300, 500, 20, 10]\n",
    "#same slicing with different values\n",
    "names[1] # index\n",
    "names[0:3]\n",
    "names[0:3:1]\n",
    "names[0:5:2]\n",
    "names[-9:-6]\n",
    "names[-9:3:1]\n",
    "names[-6:-1]"
   ]
  },
  {
   "cell_type": "code",
   "execution_count": 146,
   "id": "41dc844a",
   "metadata": {},
   "outputs": [
    {
     "data": {
      "text/plain": [
       "['qasim', 'asif', 'noman', 'kamran', 200, 300, 500, 20, 10]"
      ]
     },
     "execution_count": 146,
     "metadata": {},
     "output_type": "execute_result"
    }
   ],
   "source": [
    "names=['qasim', 'asif', 'noman', 'kamran', 200, 300, 500, 20, 10]\n",
    "names[::]\n",
    "names[2:]\n",
    "names[2::]\n",
    "names[-9:]"
   ]
  },
  {
   "cell_type": "code",
   "execution_count": 147,
   "id": "524f7038",
   "metadata": {},
   "outputs": [
    {
     "data": {
      "text/plain": [
       "[10, 20, 500, 300, 200, 'kamran', 'noman', 'asif', 'qasim']"
      ]
     },
     "execution_count": 147,
     "metadata": {},
     "output_type": "execute_result"
    }
   ],
   "source": [
    "names=['qasim', 'asif', 'noman', 'kamran', 200, 300, 500, 20, 10]\n",
    "names[::-1]"
   ]
  },
  {
   "cell_type": "code",
   "execution_count": 151,
   "id": "0d54426f",
   "metadata": {},
   "outputs": [
    {
     "name": "stdout",
     "output_type": "stream",
     "text": [
      "noman\n",
      "noman\n",
      "noman\n",
      "noman\n",
      "noman\n",
      "noman\n",
      "noman\n"
     ]
    }
   ],
   "source": [
    "for i in range(2,len(names)):\n",
    "               print(names[2])"
   ]
  },
  {
   "cell_type": "code",
   "execution_count": 152,
   "id": "8ce9c390",
   "metadata": {},
   "outputs": [
    {
     "ename": "TypeError",
     "evalue": "list indices must be integers or slices, not list",
     "output_type": "error",
     "traceback": [
      "\u001b[1;31m---------------------------------------------------------------------------\u001b[0m",
      "\u001b[1;31mTypeError\u001b[0m                                 Traceback (most recent call last)",
      "Input \u001b[1;32mIn [152]\u001b[0m, in \u001b[0;36m<cell line: 2>\u001b[1;34m()\u001b[0m\n\u001b[0;32m      1\u001b[0m names\u001b[38;5;241m=\u001b[39m[\u001b[38;5;124m'\u001b[39m\u001b[38;5;124mqasim\u001b[39m\u001b[38;5;124m'\u001b[39m, \u001b[38;5;124m'\u001b[39m\u001b[38;5;124masif\u001b[39m\u001b[38;5;124m'\u001b[39m, \u001b[38;5;124m'\u001b[39m\u001b[38;5;124mnoman\u001b[39m\u001b[38;5;124m'\u001b[39m, \u001b[38;5;124m'\u001b[39m\u001b[38;5;124mkamran\u001b[39m\u001b[38;5;124m'\u001b[39m, \u001b[38;5;241m200\u001b[39m, \u001b[38;5;241m300\u001b[39m, \u001b[38;5;241m500\u001b[39m, \u001b[38;5;241m20\u001b[39m, \u001b[38;5;241m10\u001b[39m]\n\u001b[1;32m----> 2\u001b[0m \u001b[43mnames\u001b[49m\u001b[43m[\u001b[49m\u001b[43m[\u001b[49m\u001b[38;5;241;43m1\u001b[39;49m\u001b[43m,\u001b[49m\u001b[38;5;241;43m3\u001b[39;49m\u001b[43m,\u001b[49m\u001b[38;5;241;43m5\u001b[39;49m\u001b[43m]\u001b[49m\u001b[43m]\u001b[49m\n",
      "\u001b[1;31mTypeError\u001b[0m: list indices must be integers or slices, not list"
     ]
    }
   ],
   "source": []
  },
  {
   "cell_type": "code",
   "execution_count": null,
   "id": "554d98b5",
   "metadata": {},
   "outputs": [],
   "source": []
  }
 ],
 "metadata": {
  "kernelspec": {
   "display_name": "Python 3 (ipykernel)",
   "language": "python",
   "name": "python3"
  },
  "language_info": {
   "codemirror_mode": {
    "name": "ipython",
    "version": 3
   },
   "file_extension": ".py",
   "mimetype": "text/x-python",
   "name": "python",
   "nbconvert_exporter": "python",
   "pygments_lexer": "ipython3",
   "version": "3.9.12"
  }
 },
 "nbformat": 4,
 "nbformat_minor": 5
}
